{
 "cells": [
  {
   "cell_type": "code",
   "execution_count": 1,
   "metadata": {},
   "outputs": [],
   "source": [
    "import turicreate as turi;"
   ]
  },
  {
   "cell_type": "code",
   "execution_count": 5,
   "metadata": {},
   "outputs": [
    {
     "name": "stdout",
     "output_type": "stream",
     "text": [
      "Assuming file is csv. For other delimiters, please use `SFrame.read_csv`.\n"
     ]
    },
    {
     "data": {
      "text/html": [
       "<pre>Finished parsing file /Users/sreeyaratha/FormattedSenateStockTrades.txt</pre>"
      ],
      "text/plain": [
       "Finished parsing file /Users/sreeyaratha/FormattedSenateStockTrades.txt"
      ]
     },
     "metadata": {},
     "output_type": "display_data"
    },
    {
     "name": "stdout",
     "output_type": "stream",
     "text": [
      "------------------------------------------------------\n",
      "Inferred types from first 100 line(s) of file as \n",
      "column_type_hints=[list]\n",
      "If parsing fails due to incorrect types, you can correct\n",
      "the inferred type list above and pass it to read_csv in\n",
      "the column_type_hints argument\n",
      "------------------------------------------------------\n"
     ]
    },
    {
     "data": {
      "text/html": [
       "<pre>Parsing completed. Parsed 99 lines in 0.019083 secs.</pre>"
      ],
      "text/plain": [
       "Parsing completed. Parsed 99 lines in 0.019083 secs."
      ]
     },
     "metadata": {},
     "output_type": "display_data"
    },
    {
     "data": {
      "text/html": [
       "<pre>Finished parsing file /Users/sreeyaratha/FormattedSenateStockTrades.txt</pre>"
      ],
      "text/plain": [
       "Finished parsing file /Users/sreeyaratha/FormattedSenateStockTrades.txt"
      ]
     },
     "metadata": {},
     "output_type": "display_data"
    },
    {
     "data": {
      "text/html": [
       "<div style=\"max-height:1000px;max-width:1500px;overflow:auto;\"><table frame=\"box\" rules=\"cols\">\n",
       "    <tr>\n",
       "        <th style=\"padding-left: 1em; padding-right: 1em; text-align: center\">[IFF|6/30/2023|GaryPeters<br>|Purchase|Stock|$1,00 ...</th>\n",
       "    </tr>\n",
       "    <tr>\n",
       "        <td style=\"padding-left: 1em; padding-right: 1em; text-align: center; vertical-align: top\">[TT|6/30/2023|ThomasR.Car<br>per|Purchase|Stock|$1, ...</td>\n",
       "    </tr>\n",
       "    <tr>\n",
       "        <td style=\"padding-left: 1em; padding-right: 1em; text-align: center; vertical-align: top\">[ETN|6/30/2023|ThomasR.Ca<br>rper|Sale|Stock|$1, ...</td>\n",
       "    </tr>\n",
       "    <tr>\n",
       "        <td style=\"padding-left: 1em; padding-right: 1em; text-align: center; vertical-align: top\">[BAH|6/30/2023|ThomasR.Ca<br>rper|Purchase|Stock|$1, ...</td>\n",
       "    </tr>\n",
       "    <tr>\n",
       "        <td style=\"padding-left: 1em; padding-right: 1em; text-align: center; vertical-align: top\">[DIS|6/30/2023|ThomasR.Ca<br>rper|Sale|Stock|$1, ...</td>\n",
       "    </tr>\n",
       "    <tr>\n",
       "        <td style=\"padding-left: 1em; padding-right: 1em; text-align: center; vertical-align: top\">[KEYS|6/30/2023|ThomasR.C<br>arper|Sale|Stock|$1, ...</td>\n",
       "    </tr>\n",
       "    <tr>\n",
       "        <td style=\"padding-left: 1em; padding-right: 1em; text-align: center; vertical-align: top\">[NTLA|6/30/2023|ThomasR.C<br>arper|Purchase|Stock|$1, ...</td>\n",
       "    </tr>\n",
       "    <tr>\n",
       "        <td style=\"padding-left: 1em; padding-right: 1em; text-align: center; vertical-align: top\">[NVDA|6/30/2023|ThomasR.C<br>arper|Sale|Stock|$1, ...</td>\n",
       "    </tr>\n",
       "    <tr>\n",
       "        <td style=\"padding-left: 1em; padding-right: 1em; text-align: center; vertical-align: top\">[PYPL|6/30/2023|ThomasR.C<br>arper|Sale|Stock|$1, ...</td>\n",
       "    </tr>\n",
       "    <tr>\n",
       "        <td style=\"padding-left: 1em; padding-right: 1em; text-align: center; vertical-align: top\">[MMM|6/20/2023|AngusKing|<br>Sale|Stock|$1, 001-$15, ...</td>\n",
       "    </tr>\n",
       "    <tr>\n",
       "        <td style=\"padding-left: 1em; padding-right: 1em; text-align: center; vertical-align: top\">[INTC|6/15/2023|JohnHicke<br>nlooper|Sale|Stock|$100, ...</td>\n",
       "    </tr>\n",
       "</table>\n",
       "[99 rows x 1 columns]<br/>Note: Only the head of the SFrame is printed.<br/>You can use print_rows(num_rows=m, num_columns=n) to print more rows and columns.\n",
       "</div>"
      ],
      "text/plain": [
       "Columns:\n",
       "\t[IFF|6/30/2023|GaryPeters|Purchase|Stock|$1,001-$15,000]\tlist\n",
       "\n",
       "Rows: 99\n",
       "\n",
       "Data:\n",
       "+-------------------------------+\n",
       "| [IFF|6/30/2023|GaryPeters|... |\n",
       "+-------------------------------+\n",
       "| [TT|6/30/2023|ThomasR.Carp... |\n",
       "| [ETN|6/30/2023|ThomasR.Car... |\n",
       "| [BAH|6/30/2023|ThomasR.Car... |\n",
       "| [DIS|6/30/2023|ThomasR.Car... |\n",
       "| [KEYS|6/30/2023|ThomasR.Ca... |\n",
       "| [NTLA|6/30/2023|ThomasR.Ca... |\n",
       "| [NVDA|6/30/2023|ThomasR.Ca... |\n",
       "| [PYPL|6/30/2023|ThomasR.Ca... |\n",
       "| [MMM|6/20/2023|AngusKing|S... |\n",
       "| [INTC|6/15/2023|JohnHicken... |\n",
       "+-------------------------------+\n",
       "[99 rows x 1 columns]\n",
       "Note: Only the head of the SFrame is printed.\n",
       "You can use print_rows(num_rows=m, num_columns=n) to print more rows and columns."
      ]
     },
     "execution_count": 5,
     "metadata": {},
     "output_type": "execute_result"
    },
    {
     "data": {
      "text/html": [
       "<pre>Parsing completed. Parsed 99 lines in 0.017675 secs.</pre>"
      ],
      "text/plain": [
       "Parsing completed. Parsed 99 lines in 0.017675 secs."
      ]
     },
     "metadata": {},
     "output_type": "display_data"
    }
   ],
   "source": [
    "trade_data = turi.SFrame('FormattedSenateStockTrades.txt'); \n",
    "trade_data"
   ]
  }
 ],
 "metadata": {
  "kernelspec": {
   "display_name": "turi_create_env",
   "language": "python",
   "name": "python3"
  },
  "language_info": {
   "codemirror_mode": {
    "name": "ipython",
    "version": 3
   },
   "file_extension": ".py",
   "mimetype": "text/x-python",
   "name": "python",
   "nbconvert_exporter": "python",
   "pygments_lexer": "ipython3",
   "version": "3.8.16"
  },
  "orig_nbformat": 4
 },
 "nbformat": 4,
 "nbformat_minor": 2
}
